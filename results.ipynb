{
 "cells": [
  {
   "cell_type": "markdown",
   "id": "8eafcf59",
   "metadata": {},
   "source": [
    "# Dependencies"
   ]
  },
  {
   "cell_type": "code",
   "execution_count": null,
   "id": "c14b4d4c",
   "metadata": {},
   "outputs": [],
   "source": [
    "import pickle\n",
    "import pandas as pd\n",
    "import polars as pl\n",
    "import torch\n",
    "import torch.nn as nn\n",
    "import torch.nn.functional as F\n",
    "from torch import optim\n",
    "import matplotlib.markers as mrk\n",
    "import matplotlib.pyplot as plt\n",
    "import matplotlib.patches as patches\n",
    "import shap\n",
    "import numpy as np\n",
    "import matplotlib.colors as mcolors\n",
    "from torch.utils.data import TensorDataset, DataLoader\n",
    "import pywt\n",
    "import math\n",
    "from torchattacks import CW\n",
    "import tqdm\n",
    "import h5py\n",
    "import os\n",
    "import random\n",
    "from collections import defaultdict\n",
    "import yaml\n",
    "import pprint\n",
    "from easydict import EasyDict as edict\n",
    "from sklearn.metrics import mean_absolute_error, mean_squared_error, mean_absolute_percentage_error\n",
    "from attack import Attack, flatten_dataset,normalize_tensor, max_peak\n",
    "from scipy.signal import find_peaks"
   ]
  },
  {
   "cell_type": "markdown",
   "id": "15ffdf30",
   "metadata": {},
   "source": [
    "# Load configs and set lists"
   ]
  },
  {
   "cell_type": "code",
   "execution_count": null,
   "id": "0cd00f95",
   "metadata": {},
   "outputs": [],
   "source": [
    "run_config = yaml.load(open('configs/config.yaml'), Loader=yaml.FullLoader)\n",
    "\n",
    "# attack_list = run_config.get('attacks', [])\n",
    "attack_list = ['attack_contrib']\n",
    "tensor_list = ['shap', 'cp']\n",
    "dataset_list = run_config.get('datasets', [])\n",
    "model_list = run_config.get('models', [])"
   ]
  },
  {
   "cell_type": "markdown",
   "id": "7971eac5",
   "metadata": {},
   "source": [
    "# General Comparison"
   ]
  },
  {
   "cell_type": "markdown",
   "id": "97a6192d",
   "metadata": {},
   "source": [
    "## Bar plots accuracy drop"
   ]
  },
  {
   "cell_type": "code",
   "execution_count": null,
   "id": "7e48a492",
   "metadata": {},
   "outputs": [],
   "source": []
  },
  {
   "cell_type": "markdown",
   "id": "b2800fb3",
   "metadata": {},
   "source": [
    "## Graph attack intensity over #Poisoned_points"
   ]
  },
  {
   "cell_type": "markdown",
   "id": "60bc0569",
   "metadata": {},
   "source": []
  }
 ],
 "metadata": {
  "kernelspec": {
   "display_name": "aichronolens10",
   "language": "python",
   "name": "python3"
  },
  "language_info": {
   "name": "python",
   "version": "3.10.16"
  }
 },
 "nbformat": 4,
 "nbformat_minor": 5
}
